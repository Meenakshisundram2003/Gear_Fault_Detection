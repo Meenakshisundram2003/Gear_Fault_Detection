{
 "cells": [
  {
   "cell_type": "code",
   "execution_count": 1,
   "id": "4d2847df",
   "metadata": {},
   "outputs": [],
   "source": [
    "import os\n",
    "import numpy as np\n",
    "import pandas as pd\n",
    "import matplotlib.pyplot as plt\n",
    "from sklearn.model_selection import train_test_split\n",
    "from sklearn.svm import SVC\n",
    "from scipy import stats\n",
    "from sklearn.metrics import accuracy_score, roc_curve, roc_auc_score\n",
    "from scipy.stats import kurtosis, skew"
   ]
  },
  {
   "cell_type": "code",
   "execution_count": 2,
   "id": "3996d429",
   "metadata": {},
   "outputs": [],
   "source": [
    "import numpy as np\n",
    "from scipy.stats import skew, kurtosis\n",
    "from scipy.fft import fft\n",
    "import pandas as pd\n",
    "\n",
    "def extract_features(sensor_data):\n",
    "    feature_names = ['Mean', 'Std', 'Skewness', 'Kurtosis', 'Min', 'Max', 'RMS', 'Var', 'Power', 'Peak',\n",
    "                     'P2P', 'Crest Factor', 'Form Factor', 'Pulse Indicator', 'Max Freq', 'Sum Freq',\n",
    "                     'Mean Freq', 'Var Freq', 'Peak Freq', 'Skewness Freq', 'Kurtosis Freq',\n",
    "                     'Peak Index', 'Zero Crossing Rate', 'Entropy']\n",
    "\n",
    "    all_features = []\n",
    "\n",
    "    for signal in sensor_data:\n",
    "        mean_val = np.mean(signal)\n",
    "        std_val = np.std(signal)\n",
    "        skewness = skew(signal)\n",
    "        kurt = kurtosis(signal)\n",
    "        min_val = np.min(signal)\n",
    "        max_val = np.max(signal)\n",
    "        rms = np.sqrt(np.mean(signal**2))\n",
    "        var = np.var(signal)\n",
    "        power = np.mean(signal**2)\n",
    "        peak = np.max(np.abs(signal))\n",
    "        p2p = np.ptp(signal)\n",
    "        crest_factor = np.max(np.abs(signal)) / np.sqrt(np.mean(signal**2))\n",
    "        form_factor = rms / mean_val\n",
    "        pulse_indicator = peak / mean_val\n",
    "\n",
    "        # Frequency Domain Features\n",
    "        ft = fft(signal)\n",
    "        S = np.abs(ft**2) / len(signal)\n",
    "        max_f = np.max(S)\n",
    "        sum_f = np.sum(S)\n",
    "        mean_f = np.mean(S)\n",
    "        var_f = np.var(S)\n",
    "        peak_f = np.max(np.abs(S))\n",
    "        skew_f = skew(S)\n",
    "        kurtosis_f = kurtosis(S)\n",
    "        \n",
    "        # Additional Time Domain Features\n",
    "        peak_index = np.argmax(signal)\n",
    "        zero_crossing_rate = ((np.roll(signal, 1) * signal) <= 0).sum()\n",
    "        entropy = stats.entropy(np.abs(signal))\n",
    "\n",
    "        # Append all features to the list\n",
    "        all_features.append([mean_val, std_val, skewness, kurt, min_val, max_val, rms, var, power, peak,\n",
    "                            p2p, crest_factor, form_factor, pulse_indicator, \n",
    "                             max_f, sum_f, mean_f, var_f, peak_f, skew_f, kurtosis_f,\n",
    "                             peak_index, zero_crossing_rate, entropy])\n",
    "\n",
    "    # Create a DataFrame with feature names as columns\n",
    "    df_features = pd.DataFrame(all_features, columns=feature_names)\n",
    "    \n",
    "    return df_features\n"
   ]
  },
  {
   "cell_type": "code",
   "execution_count": 3,
   "id": "05cbae55",
   "metadata": {},
   "outputs": [],
   "source": [
    "# Load and process data\n",
    "\n",
    "data_folder = \"ML_data\"  # Change this to your data folder path\n",
    "\n",
    "normal_signals = []\n",
    "fault_signals = []\n",
    "\n",
    "# Load normal signals\n",
    "for file_name in os.listdir(os.path.join(data_folder, \"Normal\")):\n",
    "    if file_name.endswith(\".csv\"):\n",
    "        signal = pd.read_csv(os.path.join(data_folder, \"Normal\", file_name)).values\n",
    "        normal_signals.append(signal)\n",
    "\n",
    "# Load fault signals\n",
    "for file_name in os.listdir(os.path.join(data_folder, \"Faulty\")):\n",
    "    if file_name.endswith(\".csv\"):\n",
    "        signal = pd.read_csv(os.path.join(data_folder, \"Faulty\", file_name)).values\n",
    "        fault_signals.append(signal)\n",
    "\n",
    "# Convert lists to arrays\n",
    "normal_signals = np.array(normal_signals)\n",
    "fault_signals = np.array(fault_signals)\n",
    "     "
   ]
  },
  {
   "cell_type": "code",
   "execution_count": 4,
   "id": "e27b5b6a",
   "metadata": {},
   "outputs": [
    {
     "name": "stdout",
     "output_type": "stream",
     "text": [
      "Shape of Normal Data Array: (10, 51200, 2)\n",
      "Shape of Faulty Data Array: (10, 51200, 2)\n"
     ]
    }
   ],
   "source": [
    "database_path = \"ML_data\"\n",
    "\n",
    "# Specify the subfolders for normal and faulty data\n",
    "normal_folder = \"Normal\"\n",
    "faulty_folder = \"Faulty\"\n",
    "\n",
    "# Function to read data from a CSV file\n",
    "def read_data_from_csv(file_path):\n",
    "    return pd.read_csv(file_path, header=None).squeeze(\"columns\").values\n",
    "\n",
    "# Function to concatenate raw vectors from a folder\n",
    "def concatenate_raw_vectors(folder_path):\n",
    "    files = os.listdir(folder_path)\n",
    "    raw_vectors = []\n",
    "    for file_name in files:\n",
    "        file_path = os.path.join(folder_path, file_name)\n",
    "        raw_vector = read_data_from_csv(file_path)\n",
    "        raw_vectors.append(raw_vector)\n",
    "    return np.array(raw_vectors)\n",
    "\n",
    "# Construct the full path to the normal and faulty folders\n",
    "normal_folder_path = os.path.join(database_path, normal_folder)\n",
    "faulty_folder_path = os.path.join(database_path, faulty_folder)\n",
    "\n",
    "# Concatenate raw vectors for normal and faulty data\n",
    "normal_data = concatenate_raw_vectors(normal_folder_path)\n",
    "faulty_data = concatenate_raw_vectors(faulty_folder_path)\n",
    "\n",
    "print(\"Shape of Normal Data Array:\", normal_data.shape)\n",
    "print(\"Shape of Faulty Data Array:\", faulty_data.shape)\n",
    "first_channel_normal = normal_data[:, :, 0]  # Shape: (10, 51200)\n",
    "first_channel_faulty = faulty_data[:, :, 0]  # Shape: (10, 51200)"
   ]
  },
  {
   "cell_type": "code",
   "execution_count": 5,
   "id": "42cfbff4",
   "metadata": {},
   "outputs": [
    {
     "data": {
      "image/png": "[encoded data removed]",
      "text/plain": [
       "<Figure size 1200x600 with 2 Axes>"
      ]
     },
     "metadata": {},
     "output_type": "display_data"
    }
   ],
   "source": [
    "#Plot sample sensor data\n",
    "plt.figure(figsize=(12, 6))\n",
    "\n",
    "# Plot normal sensor data\n",
    "plt.subplot(1, 2, 1)\n",
    "plt.plot(first_channel_normal[0, :50000], label='Normal Signal - Sensor 1')\n",
    "plt.title(\"Sample Normal Sensor Data - Sensor 1\")\n",
    "plt.xlabel(\"Time\")\n",
    "plt.ylabel(\"Amplitude\")\n",
    "plt.legend()\n",
    "\n",
    "# Plot fault sensor data\n",
    "plt.subplot(1, 2, 2)\n",
    "plt.plot(first_channel_faulty[0, :50000], label='Fault Signal - Sensor 1', color='orange')\n",
    "plt.title(\"Sample Fault Sensor Data - Sensor 1\")\n",
    "plt.xlabel(\"Time\")\n",
    "plt.ylabel(\"Amplitude\")\n",
    "plt.legend()\n",
    "\n",
    "plt.tight_layout()\n",
    "plt.show()"
   ]
  },
  {
   "cell_type": "code",
   "execution_count": 6,
   "id": "249777e8",
   "metadata": {},
   "outputs": [
    {
     "name": "stdout",
     "output_type": "stream",
     "text": [
      "Shape of Normal Features Array: (10, 24)\n",
      "Shape of Faulty Features Array: (10, 24)\n"
     ]
    }
   ],
   "source": [
    "normal_features_list = []\n",
    "faulty_features_list = []\n",
    "# Extract features for normal and faulty data\n",
    "normal_features_df = extract_features(first_channel_normal)\n",
    "faulty_features_df = extract_features(first_channel_faulty)\n",
    "\n",
    "print(\"Shape of Normal Features Array:\", normal_features_df.shape)\n",
    "print(\"Shape of Faulty Features Array:\", faulty_features_df.shape)"
   ]
  },
  {
   "cell_type": "code",
   "execution_count": 7,
   "id": "a715cc30",
   "metadata": {},
   "outputs": [
    {
     "name": "stdout",
     "output_type": "stream",
     "text": [
      "      Mean      Std      Skewness  Kurtosis  Min       Max       RMS  \\\n",
      "0  0.99998  0.57735  1.651659e-10      -1.2  0.0  1.999961  1.154684   \n",
      "1  0.99998  0.57735  1.651659e-10      -1.2  0.0  1.999961  1.154684   \n",
      "2  0.99998  0.57735  1.651659e-10      -1.2  0.0  1.999961  1.154684   \n",
      "3  0.99998  0.57735  1.651659e-10      -1.2  0.0  1.999961  1.154684   \n",
      "4  0.99998  0.57735  1.651659e-10      -1.2  0.0  1.999961  1.154684   \n",
      "\n",
      "        Var     Power      Peak  ...      Max Freq      Sum Freq  Mean Freq  \\\n",
      "0  0.333333  1.333294  1.999961  ...  51198.000006  68264.666658   1.333294   \n",
      "1  0.333333  1.333294  1.999961  ...  51198.000006  68264.666658   1.333294   \n",
      "2  0.333333  1.333294  1.999961  ...  51198.000006  68264.666658   1.333294   \n",
      "3  0.333333  1.333294  1.999961  ...  51198.000006  68264.666658   1.333294   \n",
      "4  0.333333  1.333294  1.999961  ...  51198.000006  68264.666658   1.333294   \n",
      "\n",
      "       Var Freq     Peak Freq  Skewness Freq  Kurtosis Freq  Peak Index  \\\n",
      "0  52332.000196  51198.000006     219.392457   49003.529397       51199   \n",
      "1  52332.000196  51198.000006     219.392457   49003.529397       51199   \n",
      "2  52332.000196  51198.000006     219.392457   49003.529397       51199   \n",
      "3  52332.000196  51198.000006     219.392457   49003.529397       51199   \n",
      "4  52332.000196  51198.000006     219.392457   49003.529397       51199   \n",
      "\n",
      "   Zero Crossing Rate    Entropy  \n",
      "0                   2  10.650338  \n",
      "1                   2  10.650338  \n",
      "2                   2  10.650338  \n",
      "3                   2  10.650338  \n",
      "4                   2  10.650338  \n",
      "\n",
      "[5 rows x 24 columns]\n"
     ]
    }
   ],
   "source": [
    "print(normal_features_df.head(5))"
   ]
  },
  {
   "cell_type": "code",
   "execution_count": 8,
   "id": "2640f369",
   "metadata": {},
   "outputs": [],
   "source": [
    "normal_features = normal_features_df.to_numpy()\n",
    "faulty_features = faulty_features_df.to_numpy()\n",
    "\n",
    "X = pd.concat([normal_features_df, faulty_features_df], axis=0)\n",
    "\n",
    "# Create labels (0 for normal, 1 for faulty)\n",
    "y = pd.Series([0] * normal_features_df.shape[0] + [1] * faulty_features_df.shape[0], name='Label')\n"
   ]
  },
  {
   "cell_type": "code",
   "execution_count": 9,
   "id": "c3fa84bb",
   "metadata": {},
   "outputs": [],
   "source": [
    "# Split the data into training and testing sets\n",
    "X_train, X_test, y_train, y_test = train_test_split(X, y, test_size=0.2, random_state=42)"
   ]
  },
  {
   "cell_type": "code",
   "execution_count": 10,
   "id": "8fa6e6a8",
   "metadata": {},
   "outputs": [],
   "source": [
    "# Initialize SVM model\n",
    "svm_model = SVC(kernel='linear', C=1.0, gamma='scale')\n",
    "\n",
    "# Train the SVM model\n",
    "svm_model.fit(X_train, y_train)\n",
    "\n",
    "# Make predictions on the test set\n",
    "y_pred = svm_model.predict(X_test)"
   ]
  },
  {
   "cell_type": "code",
   "execution_count": 11,
   "id": "a93fcd62",
   "metadata": {},
   "outputs": [
    {
     "name": "stdout",
     "output_type": "stream",
     "text": [
      "Accuracy in %: 50.00 Recall score in %: 100.00 Precision score in %: 50.00\n"
     ]
    }
   ],
   "source": [
    "from sklearn.metrics import accuracy_score, recall_score, precision_score\n",
    "\n",
    "# Assuming y_test and y_pred are your test labels and predicted labels, respectively\n",
    "accuracy = accuracy_score(y_test, y_pred)\n",
    "recall = recall_score(y_test, y_pred)\n",
    "precision = precision_score(y_test, y_pred)\n",
    "\n",
    "print(f\"Accuracy in %: {accuracy*100:.2f}\",\n",
    "      f\"Recall score in %: {recall*100:.2f}\",\n",
    "      f\"Precision score in %: {precision*100:.2f}\"\n",
    "      )\n"
   ]
  },
  {
   "cell_type": "code",
   "execution_count": 14,
   "id": "173be7c3",
   "metadata": {},
   "outputs": [
    {
     "name": "stdout",
     "output_type": "stream",
     "text": [
      "Accuracy in %: 50.00 Recall score in %: 100.00 Precision score in %: 50.00\n"
     ]
    }
   ],
   "source": [
    "from sklearn.ensemble import RandomForestClassifier\n",
    "rfc = RandomForestClassifier()\n",
    "rfc.fit(X_train, y_train)\n",
    " \n",
    "#make prediction \n",
    "y_pred = rfc.predict(X_test)\n",
    " \n",
    "#evaluate the model\n",
    "accuracy = accuracy_score(y_test, y_pred)\n",
    "recall = recall_score(y_test, y_pred)\n",
    "precision = precision_score(y_test, y_pred)\n",
    " \n",
    "#print the result\n",
    "print(f\"Accuracy in %: {accuracy*100:.2f}\",\n",
    "       f\"Recall score in %: {recall*100:.2f}\",\n",
    "       f\"Precision score in %: {precision*100:.2f}\"\n",
    "      ) "
   ]
  },
  {
   "cell_type": "markdown",
   "id": "7786bf7d",
   "metadata": {},
   "source": [
    "### Feature Selection using SVC"
   ]
  },
  {
   "cell_type": "code",
   "execution_count": 15,
   "id": "b369a15b",
   "metadata": {},
   "outputs": [
    {
     "name": "stdout",
     "output_type": "stream",
     "text": [
      "Sum Freq              8.731149e-11\n",
      "Var Freq              5.820766e-11\n",
      "Max Freq              4.365575e-11\n",
      "Kurtosis Freq         4.365575e-11\n",
      "Peak Freq             4.365575e-11\n",
      "Skewness Freq         1.705303e-13\n",
      "Entropy               3.552714e-15\n",
      "Mean Freq             1.332268e-15\n",
      "Form Factor           1.332268e-15\n",
      "Peak                  8.881784e-16\n",
      "P2P                   8.881784e-16\n",
      "Crest Factor          8.881784e-16\n",
      "Max                   8.881784e-16\n",
      "Power                 4.440892e-16\n",
      "Skewness              1.550964e-25\n",
      "Std                   0.000000e+00\n",
      "Pulse Indicator       0.000000e+00\n",
      "Var                   0.000000e+00\n",
      "RMS                   0.000000e+00\n",
      "Min                   0.000000e+00\n",
      "Kurtosis              0.000000e+00\n",
      "Peak Index            0.000000e+00\n",
      "Zero Crossing Rate    0.000000e+00\n",
      "Mean                  0.000000e+00\n",
      "dtype: float64\n"
     ]
    }
   ],
   "source": [
    "from sklearn.svm import SVC\n",
    "\n",
    "# Assuming you have already split your data into X_train, X_test, y_train, y_test\n",
    "\n",
    "# Initialize the SVM model\n",
    "svm_model = SVC(kernel='linear')  # You can use 'rbf' or other kernels based on your needs\n",
    "\n",
    "# Fit the SVM model\n",
    "svm_model.fit(X_train, y_train)\n",
    "\n",
    "# Get feature importances or coefficients (for linear SVM)\n",
    "if svm_model.kernel == 'linear':\n",
    "    feature_importance = pd.Series(abs(svm_model.coef_[0]), index=X.columns)\n",
    "    sorted_feature_importance = feature_importance.sort_values(ascending=False)\n",
    "    print(sorted_feature_importance)\n",
    "else:\n",
    "    print(\"Feature importances are not directly available for non-linear SVMs like 'rbf'.\")\n",
    "    print(\"You may consider using other feature selection techniques for non-linear SVMs.\")\n"
   ]
  },
  {
   "cell_type": "code",
   "execution_count": 16,
   "id": "a02cb75c",
   "metadata": {},
   "outputs": [
    {
     "name": "stdout",
     "output_type": "stream",
     "text": [
      "Index(['Sum Freq', 'Var Freq', 'Max Freq', 'Kurtosis Freq', 'Peak Freq'], dtype='object')\n",
      "(16, 5)\n",
      "Accuracy using top 5 features- Random Forest: 74.66\n",
      "Accuracy using top features- SVM: 78.00\n"
     ]
    }
   ],
   "source": [
    "top_features = feature_importance.sort_values(ascending=False).head(5).index\n",
    "print(top_features)\n",
    "# Select only the top 5 features from your original feature matrix\n",
    "X_train_new = X_train[top_features]\n",
    "X_test_new = X_test[top_features]\n",
    "\n",
    "print(X_train_new.shape)\n",
    "#-----------------------------------------------------------\n",
    "# Train a classifier using only the top 5 features\n",
    "rfc_top_5 = RandomForestClassifier()\n",
    "rfc_top_5.fit(X_train_new, y_train)\n",
    "\n",
    "# Make predictions on the test set\n",
    "y_pred = rfc_top_5.predict(X_test_new)\n",
    "\n",
    "# Evaluate the accuracy\n",
    "accuracy = accuracy_score(y_test, y_pred)\n",
    "print(f\"Accuracy using top 5 features- Random Forest: {accuracy*100:.2f}\")\n",
    "\n",
    "\n",
    "# Initialize SVM model\n",
    "svm_model = SVC(kernel='linear', C=1.0, gamma='scale')\n",
    "\n",
    "# Train the SVM model\n",
    "svm_model.fit(X_train_new, y_train)\n",
    "\n",
    "# Make predictions on the test set\n",
    "y_pred = svm_model.predict(X_test_new)\n",
    "# Evaluate the model\n",
    "accuracy = accuracy_score(y_test, y_pred)\n",
    "print(f\"Accuracy using top features- SVM: {accuracy*100:.2f}\")\n"
   ]
  },
  {
   "cell_type": "code",
   "execution_count": 17,
   "id": "b7eba66b",
   "metadata": {},
   "outputs": [
    {
     "name": "stdout",
     "output_type": "stream",
     "text": [
      "Selected Features: [False False False False False False False False False False False False\n",
      " False False  True  True False  True  True False  True False False False]\n"
     ]
    }
   ],
   "source": [
    "from sklearn.feature_selection import RFE\n",
    "\n",
    "# Assuming svm_model is your trained SVM model\n",
    "selector = RFE(svm_model, n_features_to_select=5, step=1)\n",
    "selector = selector.fit(X_train, y_train)\n",
    "\n",
    "# Get selected features\n",
    "selected_features = selector.support_\n",
    "print(\"Selected Features:\", selected_features)\n",
    "\n"
   ]
  },
  {
   "cell_type": "code",
   "execution_count": 18,
   "id": "8b204bfe",
   "metadata": {
    "scrolled": true
   },
   "outputs": [
    {
     "name": "stdout",
     "output_type": "stream",
     "text": [
      "Index(['Sum Freq', 'Var Freq', 'Max Freq', 'Kurtosis Freq', 'Peak Freq'], dtype='object')\n",
      "(16, 5)\n",
      "Accuracy using top 5 features- Random Forest: 50.00\n",
      "Accuracy using top features- SVM: 50.00\n"
     ]
    }
   ],
   "source": [
    "top_features = feature_importance.sort_values(ascending=False).head(5).index\n",
    "print(top_features)\n",
    "# Select only the top 5 features from your original feature matrix\n",
    "X_train_new = X_train[top_features]\n",
    "X_test_new = X_test[top_features]\n",
    "\n",
    "print(X_train_new.shape)\n",
    "#-----------------------------------------------------------\n",
    "# Train a classifier using only the top 5 features\n",
    "rfc_top_5 = RandomForestClassifier()\n",
    "rfc_top_5.fit(X_train_new, y_train)\n",
    "\n",
    "# Make predictions on the test set\n",
    "y_pred = rfc_top_5.predict(X_test_new)\n",
    "\n",
    "# Evaluate the accuracy\n",
    "accuracy = accuracy_score(y_test, y_pred)\n",
    "print(f\"Accuracy using top 5 features- Random Forest: {accuracy*100:.2f}\")\n",
    "\n",
    "\n",
    "# Initialize SVM model\n",
    "svm_model = SVC(kernel='linear', C=1.0, gamma='scale')\n",
    "\n",
    "# Train the SVM model\n",
    "svm_model.fit(X_train_new, y_train)\n",
    "\n",
    "# Make predictions on the test set\n",
    "y_pred = svm_model.predict(X_test_new)\n",
    "# Evaluate the model\n",
    "accuracy = accuracy_score(y_test, y_pred)\n",
    "print(f\"Accuracy using top features- SVM: {accuracy*100:.2f}\")\n"
   ]
  },
  {
   "cell_type": "markdown",
   "id": "601e4f0c",
   "metadata": {},
   "source": [
    "### Dimension Reduction"
   ]
  },
  {
   "cell_type": "code",
   "execution_count": 22,
   "id": "4426965a",
   "metadata": {},
   "outputs": [],
   "source": [
    "from sklearn.preprocessing import StandardScaler\n",
    "from sklearn.impute import SimpleImputer\n",
    "from sklearn.preprocessing import LabelEncoder\n",
    "from sklearn.decomposition import PCA  # Import PCA\n",
    "\n",
    "# Handle missing values\n",
    "imputer = SimpleImputer(strategy='mean')\n",
    "X_train_imputed = imputer.fit_transform(X_train)\n",
    "\n",
    "# Encode categorical variables (if applicable)\n",
    "label_encoder = LabelEncoder()\n",
    "# Apply label encoding to categorical columns\n",
    "# Example: X_train_encoded = label_encoder.fit_transform(X_train_categorical)\n",
    "\n",
    "# Scale the data before applying PCA\n",
    "scaler = StandardScaler()\n",
    "X_train_scaled = scaler.fit_transform(X_train_imputed)\n",
    "\n",
    "# Apply PCA on scaled data\n",
    "pca = PCA()\n",
    "pca.fit(X_train_scaled)\n"
   ]
  },
  {
   "cell_type": "code",
   "execution_count": 23,
   "id": "2aff46c6",
   "metadata": {},
   "outputs": [],
   "source": [
    "import pandas as pd\n",
    "from sklearn.decomposition import PCA\n",
    "from sklearn.ensemble import RandomForestClassifier\n",
    "from sklearn.model_selection import train_test_split\n",
    "from sklearn.metrics import accuracy_score\n",
    "np.seterr(divide='ignore', invalid='ignore')\n",
    "# Assuming X is your feature matrix and y is your label vector\n",
    "\n",
    "# Apply PCA to reduce the number of features\n",
    "n_components = 1  # Specify the number of components (adjust as needed)\n",
    "pca = PCA(n_components=n_components)\n",
    "X_pca = pca.fit_transform(X_train)\n",
    "X_train_pca = pca.transform(X_train)\n",
    "X_test_pca = pca.transform(X_test)\n",
    "# Split the data into training and testing sets\n"
   ]
  },
  {
   "cell_type": "code",
   "execution_count": 24,
   "id": "18063eec",
   "metadata": {},
   "outputs": [
    {
     "name": "stdout",
     "output_type": "stream",
     "text": [
      "Accuracy -RFC PCA: 78.2\n",
      "Accuracy - SVM PCA: 82.77\n"
     ]
    }
   ],
   "source": [
    "# Create a RandomForestClassifier (replace this with your actual model)\n",
    "rfc = RandomForestClassifier()\n",
    "rfc.fit(X_train_pca, y_train)\n",
    "\n",
    "# Make predictions on the test set\n",
    "y_pred = rfc.predict(X_test_pca)\n",
    "\n",
    "# Evaluate the accuracy\n",
    "accuracy = accuracy_score(y_test, y_pred)\n",
    "print(f\"Accuracy -RFC PCA: {accuracy*100:.2f}\")\n",
    "\n",
    "\n",
    "\n",
    "# Initialize SVM model\n",
    "svm_model = SVC(kernel='linear', C=1.0, gamma='scale')\n",
    "\n",
    "# Train the SVM model\n",
    "svm_model.fit(X_train_pca, y_train)\n",
    "\n",
    "# Make predictions on the test set\n",
    "y_pred = svm_model.predict(X_test_pca)\n",
    "# Evaluate the model\n",
    "accuracy = accuracy_score(y_test, y_pred)\n",
    "print(f\"Accuracy - SVM PCA: {accuracy*100:.2f}\")\n",
    "recall = recall_score(y_test, y_pred)\n",
    "precision = precision_score(y_test, y_pred)\n",
    "\n"
   ]
  },
  {
   "cell_type": "code",
   "execution_count": null,
   "id": "4df85a62",
   "metadata": {},
   "outputs": [],
   "source": []
  },
  {
   "cell_type": "code",
   "execution_count": null,
   "id": "3c493ed5",
   "metadata": {},
   "outputs": [],
   "source": [
    "\n"
   ]
  },
  {
   "cell_type": "code",
   "execution_count": null,
   "id": "024c9bf2",
   "metadata": {},
   "outputs": [],
   "source": [
    "\n"
   ]
  },
  {
   "cell_type": "code",
   "execution_count": null,
   "id": "02802a5a",
   "metadata": {},
   "outputs": [],
   "source": [
    "\n"
   ]
  },
  {
   "cell_type": "code",
   "execution_count": null,
   "id": "75e56ebe",
   "metadata": {},
   "outputs": [],
   "source": []
  },
  {
   "cell_type": "code",
   "execution_count": null,
   "id": "51d89f37",
   "metadata": {},
   "outputs": [],
   "source": []
  },
  {
   "cell_type": "code",
   "execution_count": null,
   "id": "26006b87",
   "metadata": {},
   "outputs": [],
   "source": []
  }
 ],
 "metadata": {
  "kernelspec": {
   "display_name": "Python 3 (ipykernel)",
   "language": "python",
   "name": "python3"
  },
  "language_info": {
   "codemirror_mode": {
    "name": "ipython",
    "version": 3
   },
   "file_extension": ".py",
   "mimetype": "text/x-python",
   "name": "python",
   "nbconvert_exporter": "python",
   "pygments_lexer": "ipython3",
   "version": "3.12.7"
  }
 },
 "nbformat": 4,
 "nbformat_minor": 5
}
